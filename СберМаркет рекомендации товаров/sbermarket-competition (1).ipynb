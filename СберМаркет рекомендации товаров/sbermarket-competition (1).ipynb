{
 "cells": [
  {
   "cell_type": "code",
   "execution_count": 1,
   "id": "aad52976",
   "metadata": {
    "execution": {
     "iopub.execute_input": "2022-02-06T13:25:03.755664Z",
     "iopub.status.busy": "2022-02-06T13:25:03.754483Z",
     "iopub.status.idle": "2022-02-06T13:25:04.957239Z",
     "shell.execute_reply": "2022-02-06T13:25:04.956546Z",
     "shell.execute_reply.started": "2022-02-06T13:23:04.859555Z"
    },
    "papermill": {
     "duration": 1.225874,
     "end_time": "2022-02-06T13:25:04.957448",
     "exception": false,
     "start_time": "2022-02-06T13:25:03.731574",
     "status": "completed"
    },
    "tags": []
   },
   "outputs": [],
   "source": [
    "import pandas as pd\n",
    "import numpy as np\n",
    "import matplotlib.pyplot as plt\n",
    "import seaborn as sns\n",
    "\n",
    "from lightfm import LightFM\n",
    "from lightfm.data import Dataset\n",
    "from lightfm.evaluation import auc_score, precision_at_k"
   ]
  },
  {
   "cell_type": "markdown",
   "id": "4f804488",
   "metadata": {
    "papermill": {
     "duration": 0.01729,
     "end_time": "2022-02-06T13:25:04.994753",
     "exception": false,
     "start_time": "2022-02-06T13:25:04.977463",
     "status": "completed"
    },
    "tags": []
   },
   "source": [
    "## Загрузка и анализ"
   ]
  },
  {
   "cell_type": "code",
   "execution_count": 2,
   "id": "8ea7d01e",
   "metadata": {
    "execution": {
     "iopub.execute_input": "2022-02-06T13:25:05.036662Z",
     "iopub.status.busy": "2022-02-06T13:25:05.036009Z",
     "iopub.status.idle": "2022-02-06T13:25:08.531841Z",
     "shell.execute_reply": "2022-02-06T13:25:08.531273Z",
     "shell.execute_reply.started": "2022-02-06T13:23:04.866832Z"
    },
    "papermill": {
     "duration": 3.518928,
     "end_time": "2022-02-06T13:25:08.531991",
     "exception": false,
     "start_time": "2022-02-06T13:25:05.013063",
     "status": "completed"
    },
    "tags": []
   },
   "outputs": [],
   "source": [
    "base_path = '../input/sbermarket-internship-competition/'\n",
    "train = pd.read_csv(base_path + 'train.csv', parse_dates=[1])\n",
    "sample = pd.read_csv(base_path + 'sample_submission.csv')"
   ]
  },
  {
   "cell_type": "code",
   "execution_count": 3,
   "id": "ff3e8682",
   "metadata": {
    "execution": {
     "iopub.execute_input": "2022-02-06T13:25:08.571045Z",
     "iopub.status.busy": "2022-02-06T13:25:08.570355Z",
     "iopub.status.idle": "2022-02-06T13:25:08.590831Z",
     "shell.execute_reply": "2022-02-06T13:25:08.590269Z",
     "shell.execute_reply.started": "2022-02-06T13:23:07.638623Z"
    },
    "papermill": {
     "duration": 0.041262,
     "end_time": "2022-02-06T13:25:08.590964",
     "exception": false,
     "start_time": "2022-02-06T13:25:08.549702",
     "status": "completed"
    },
    "tags": []
   },
   "outputs": [
    {
     "data": {
      "text/html": [
       "<div>\n",
       "<style scoped>\n",
       "    .dataframe tbody tr th:only-of-type {\n",
       "        vertical-align: middle;\n",
       "    }\n",
       "\n",
       "    .dataframe tbody tr th {\n",
       "        vertical-align: top;\n",
       "    }\n",
       "\n",
       "    .dataframe thead th {\n",
       "        text-align: right;\n",
       "    }\n",
       "</style>\n",
       "<table border=\"1\" class=\"dataframe\">\n",
       "  <thead>\n",
       "    <tr style=\"text-align: right;\">\n",
       "      <th></th>\n",
       "      <th>user_id</th>\n",
       "      <th>order_completed_at</th>\n",
       "      <th>cart</th>\n",
       "    </tr>\n",
       "  </thead>\n",
       "  <tbody>\n",
       "    <tr>\n",
       "      <th>0</th>\n",
       "      <td>2</td>\n",
       "      <td>2015-03-22 09:25:46</td>\n",
       "      <td>399</td>\n",
       "    </tr>\n",
       "    <tr>\n",
       "      <th>1</th>\n",
       "      <td>2</td>\n",
       "      <td>2015-03-22 09:25:46</td>\n",
       "      <td>14</td>\n",
       "    </tr>\n",
       "    <tr>\n",
       "      <th>2</th>\n",
       "      <td>2</td>\n",
       "      <td>2015-03-22 09:25:46</td>\n",
       "      <td>198</td>\n",
       "    </tr>\n",
       "    <tr>\n",
       "      <th>3</th>\n",
       "      <td>2</td>\n",
       "      <td>2015-03-22 09:25:46</td>\n",
       "      <td>88</td>\n",
       "    </tr>\n",
       "    <tr>\n",
       "      <th>4</th>\n",
       "      <td>2</td>\n",
       "      <td>2015-03-22 09:25:46</td>\n",
       "      <td>157</td>\n",
       "    </tr>\n",
       "  </tbody>\n",
       "</table>\n",
       "</div>"
      ],
      "text/plain": [
       "   user_id  order_completed_at  cart\n",
       "0        2 2015-03-22 09:25:46   399\n",
       "1        2 2015-03-22 09:25:46    14\n",
       "2        2 2015-03-22 09:25:46   198\n",
       "3        2 2015-03-22 09:25:46    88\n",
       "4        2 2015-03-22 09:25:46   157"
      ]
     },
     "metadata": {},
     "output_type": "display_data"
    },
    {
     "data": {
      "text/html": [
       "<div>\n",
       "<style scoped>\n",
       "    .dataframe tbody tr th:only-of-type {\n",
       "        vertical-align: middle;\n",
       "    }\n",
       "\n",
       "    .dataframe tbody tr th {\n",
       "        vertical-align: top;\n",
       "    }\n",
       "\n",
       "    .dataframe thead th {\n",
       "        text-align: right;\n",
       "    }\n",
       "</style>\n",
       "<table border=\"1\" class=\"dataframe\">\n",
       "  <thead>\n",
       "    <tr style=\"text-align: right;\">\n",
       "      <th></th>\n",
       "      <th>id</th>\n",
       "      <th>target</th>\n",
       "    </tr>\n",
       "  </thead>\n",
       "  <tbody>\n",
       "    <tr>\n",
       "      <th>0</th>\n",
       "      <td>0;133</td>\n",
       "      <td>0</td>\n",
       "    </tr>\n",
       "    <tr>\n",
       "      <th>1</th>\n",
       "      <td>0;5</td>\n",
       "      <td>1</td>\n",
       "    </tr>\n",
       "    <tr>\n",
       "      <th>2</th>\n",
       "      <td>0;10</td>\n",
       "      <td>0</td>\n",
       "    </tr>\n",
       "    <tr>\n",
       "      <th>3</th>\n",
       "      <td>0;396</td>\n",
       "      <td>1</td>\n",
       "    </tr>\n",
       "    <tr>\n",
       "      <th>4</th>\n",
       "      <td>0;14</td>\n",
       "      <td>0</td>\n",
       "    </tr>\n",
       "  </tbody>\n",
       "</table>\n",
       "</div>"
      ],
      "text/plain": [
       "      id  target\n",
       "0  0;133       0\n",
       "1    0;5       1\n",
       "2   0;10       0\n",
       "3  0;396       1\n",
       "4   0;14       0"
      ]
     },
     "metadata": {},
     "output_type": "display_data"
    }
   ],
   "source": [
    "display(train.head())\n",
    "display(sample.head())"
   ]
  },
  {
   "cell_type": "code",
   "execution_count": 4,
   "id": "fcd2b1b0",
   "metadata": {
    "execution": {
     "iopub.execute_input": "2022-02-06T13:25:08.636544Z",
     "iopub.status.busy": "2022-02-06T13:25:08.635797Z",
     "iopub.status.idle": "2022-02-06T13:25:10.538770Z",
     "shell.execute_reply": "2022-02-06T13:25:10.539309Z",
     "shell.execute_reply.started": "2022-02-06T13:23:07.659803Z"
    },
    "papermill": {
     "duration": 1.929223,
     "end_time": "2022-02-06T13:25:10.539515",
     "exception": false,
     "start_time": "2022-02-06T13:25:08.610292",
     "status": "completed"
    },
    "tags": []
   },
   "outputs": [],
   "source": [
    "# Разбиение данных из сабмита на отдельные переменные\n",
    "users = []\n",
    "items = []\n",
    "\n",
    "for row in sample.to_numpy():\n",
    "    user, item = map(int, row[0].split(';'))\n",
    "    users.append(user)\n",
    "    items.append(item)\n",
    "    \n",
    "users = np.array(users)    \n",
    "items = np.array(items) \n",
    "users_set = list(set(users))\n",
    "items_set = list(set(items))"
   ]
  },
  {
   "cell_type": "code",
   "execution_count": 5,
   "id": "ec816732",
   "metadata": {
    "execution": {
     "iopub.execute_input": "2022-02-06T13:25:10.583935Z",
     "iopub.status.busy": "2022-02-06T13:25:10.583212Z",
     "iopub.status.idle": "2022-02-06T13:25:10.614151Z",
     "shell.execute_reply": "2022-02-06T13:25:10.614733Z",
     "shell.execute_reply.started": "2022-02-06T13:23:09.615690Z"
    },
    "papermill": {
     "duration": 0.056157,
     "end_time": "2022-02-06T13:25:10.614921",
     "exception": false,
     "start_time": "2022-02-06T13:25:10.558764",
     "status": "completed"
    },
    "tags": []
   },
   "outputs": [
    {
     "name": "stdout",
     "output_type": "stream",
     "text": [
      "Кол-во пользователей в тренировочной выборке: 20000\n",
      "Кол-во пользователей в сабмите:               13036\n"
     ]
    }
   ],
   "source": [
    "# Анализ количества пользователей в выборках\n",
    "print(f'Кол-во пользователей в тренировочной выборке: {train.user_id.nunique()}')\n",
    "print(f'Кол-во пользователей в сабмите:               {len(users_set)}')"
   ]
  },
  {
   "cell_type": "code",
   "execution_count": 6,
   "id": "86a2b2be",
   "metadata": {
    "execution": {
     "iopub.execute_input": "2022-02-06T13:25:10.659688Z",
     "iopub.status.busy": "2022-02-06T13:25:10.658981Z",
     "iopub.status.idle": "2022-02-06T13:25:11.578335Z",
     "shell.execute_reply": "2022-02-06T13:25:11.577796Z",
     "shell.execute_reply.started": "2022-02-06T13:23:09.648647Z"
    },
    "papermill": {
     "duration": 0.944152,
     "end_time": "2022-02-06T13:25:11.578499",
     "exception": false,
     "start_time": "2022-02-06T13:25:10.634347",
     "status": "completed"
    },
    "tags": []
   },
   "outputs": [
    {
     "name": "stdout",
     "output_type": "stream",
     "text": [
      "Кол-во категорий в тренировочной выборке: 881, диапазон: 0-880\n",
      "Кол-во категорий в сабмите:               858, диапазон: 0-880\n"
     ]
    }
   ],
   "source": [
    "# Анализ категорий товаров\n",
    "print(f'Кол-во категорий в тренировочной выборке: {train.cart.nunique()}, диапазон: {min(train.cart)}-{max(train.cart)}')\n",
    "print(f'Кол-во категорий в сабмите:               {len(items_set)}, диапазон: {min(items_set)}-{max(items_set)}')"
   ]
  },
  {
   "cell_type": "markdown",
   "id": "c925608c",
   "metadata": {
    "papermill": {
     "duration": 0.019612,
     "end_time": "2022-02-06T13:25:11.617731",
     "exception": false,
     "start_time": "2022-02-06T13:25:11.598119",
     "status": "completed"
    },
    "tags": []
   },
   "source": [
    "Видно, что в сабмите отсутствуют как пользователи, так и некоторые категории, присутствующие в тренировочной выборке.  \n",
    "Их нужно будет удалить."
   ]
  },
  {
   "cell_type": "code",
   "execution_count": 7,
   "id": "b7d4df5d",
   "metadata": {
    "execution": {
     "iopub.execute_input": "2022-02-06T13:25:11.661237Z",
     "iopub.status.busy": "2022-02-06T13:25:11.660598Z",
     "iopub.status.idle": "2022-02-06T13:25:12.629584Z",
     "shell.execute_reply": "2022-02-06T13:25:12.629028Z",
     "shell.execute_reply.started": "2022-02-06T13:23:10.628848Z"
    },
    "papermill": {
     "duration": 0.991582,
     "end_time": "2022-02-06T13:25:12.629731",
     "exception": false,
     "start_time": "2022-02-06T13:25:11.638149",
     "status": "completed"
    },
    "tags": []
   },
   "outputs": [
    {
     "name": "stdout",
     "output_type": "stream",
     "text": [
      "Минимальное кол-во заказов одного пользователя:  3\n",
      "Максимальное кол-во заказов одного пользователя: 213\n"
     ]
    },
    {
     "data": {
      "image/png": "[encoded data removed]",
      "text/plain": [
       "<Figure size 864x432 with 1 Axes>"
      ]
     },
     "metadata": {},
     "output_type": "display_data"
    }
   ],
   "source": [
    "sns.set(style='darkgrid', palette='tab10', font_scale=1.2)\n",
    "\n",
    "# Анализ общего числа заказов на каждого клиента\n",
    "user_orders = train.groupby('user_id')['order_completed_at'].nunique()\n",
    "print(f'Минимальное кол-во заказов одного пользователя:  {user_orders.min()}')\n",
    "print(f'Максимальное кол-во заказов одного пользователя: {user_orders.max()}')\n",
    "\n",
    "# Вывод распределения заказов\n",
    "plt.figure(figsize=(12, 6))\n",
    "sns.histplot(user_orders, bins=user_orders.nunique())\n",
    "plt.xticks(range(0, 250, 20))\n",
    "plt.xlabel('Кол-во заказов на пользователя')\n",
    "plt.ylabel('Кол-во пользователей')\n",
    "plt.title('Распределение количества заказов на пользователя');"
   ]
  },
  {
   "cell_type": "markdown",
   "id": "98fecc2e",
   "metadata": {
    "papermill": {
     "duration": 0.021067,
     "end_time": "2022-02-06T13:25:12.672518",
     "exception": false,
     "start_time": "2022-02-06T13:25:12.651451",
     "status": "completed"
    },
    "tags": []
   },
   "source": [
    "Из распределения можно сделать вывод, что большая часть клиентов не спешит делать повторные заказы - основная масса сделала не больше 10 заказов."
   ]
  },
  {
   "cell_type": "code",
   "execution_count": 8,
   "id": "bb2275f6",
   "metadata": {
    "execution": {
     "iopub.execute_input": "2022-02-06T13:25:12.723802Z",
     "iopub.status.busy": "2022-02-06T13:25:12.722646Z",
     "iopub.status.idle": "2022-02-06T13:25:13.956341Z",
     "shell.execute_reply": "2022-02-06T13:25:13.955707Z",
     "shell.execute_reply.started": "2022-02-06T13:23:11.606599Z"
    },
    "papermill": {
     "duration": 1.262428,
     "end_time": "2022-02-06T13:25:13.956511",
     "exception": false,
     "start_time": "2022-02-06T13:25:12.694083",
     "status": "completed"
    },
    "tags": []
   },
   "outputs": [
    {
     "name": "stdout",
     "output_type": "stream",
     "text": [
      "Минимальное кол-во заказов одной категории:  1\n",
      "Максимальное кол-во заказов одной категории: 108518\n"
     ]
    },
    {
     "data": {
      "image/png": "[encoded data removed]",
      "text/plain": [
       "<Figure size 864x432 with 1 Axes>"
      ]
     },
     "metadata": {},
     "output_type": "display_data"
    }
   ],
   "source": [
    "# Анализ заказов по категориям\n",
    "cart_orders = train.groupby('cart')['order_completed_at'].nunique()\n",
    "print(f'Минимальное кол-во заказов одной категории:  {cart_orders.min()}')\n",
    "print(f'Максимальное кол-во заказов одной категории: {cart_orders.max()}')\n",
    "\n",
    "# Вывод распределения заказов\n",
    "plt.figure(figsize=(12, 6))\n",
    "sns.histplot(cart_orders, bins=200)\n",
    "plt.xticks(range(0, 120000, 10000))\n",
    "plt.xlabel('Кол-во заказов на категорию')\n",
    "plt.ylabel('Кол-во категорий')\n",
    "plt.title('Распределение количества заказов на категорию');"
   ]
  },
  {
   "cell_type": "markdown",
   "id": "22998c42",
   "metadata": {
    "papermill": {
     "duration": 0.023594,
     "end_time": "2022-02-06T13:25:14.004373",
     "exception": false,
     "start_time": "2022-02-06T13:25:13.980779",
     "status": "completed"
    },
    "tags": []
   },
   "source": [
    "Распределение продаж по категориям так же имеет сильное смещение - большая часть категорий заказывается меньше 5 тысяч раз."
   ]
  },
  {
   "cell_type": "markdown",
   "id": "735e6e7a",
   "metadata": {
    "papermill": {
     "duration": 0.023144,
     "end_time": "2022-02-06T13:25:14.051147",
     "exception": false,
     "start_time": "2022-02-06T13:25:14.028003",
     "status": "completed"
    },
    "tags": []
   },
   "source": [
    "## Предобработка"
   ]
  },
  {
   "cell_type": "code",
   "execution_count": 9,
   "id": "b1695f27",
   "metadata": {
    "execution": {
     "iopub.execute_input": "2022-02-06T13:25:14.107540Z",
     "iopub.status.busy": "2022-02-06T13:25:14.106811Z",
     "iopub.status.idle": "2022-02-06T13:25:14.313260Z",
     "shell.execute_reply": "2022-02-06T13:25:14.313858Z",
     "shell.execute_reply.started": "2022-02-06T13:23:12.862989Z"
    },
    "papermill": {
     "duration": 0.240067,
     "end_time": "2022-02-06T13:25:14.314065",
     "exception": false,
     "start_time": "2022-02-06T13:25:14.073998",
     "status": "completed"
    },
    "tags": []
   },
   "outputs": [],
   "source": [
    "# Удаление отсутствующих категорий и пользователей\n",
    "train = train.loc[train['cart'].isin(items)]\n",
    "train = train.loc[train['user_id'].isin(users)]"
   ]
  },
  {
   "cell_type": "markdown",
   "id": "f49ad870",
   "metadata": {
    "papermill": {
     "duration": 0.023099,
     "end_time": "2022-02-06T13:25:14.360681",
     "exception": false,
     "start_time": "2022-02-06T13:25:14.337582",
     "status": "completed"
    },
    "tags": []
   },
   "source": [
    "Для сплита на тренировочную и валидационную выборку использую последние заказы каждого пользователя."
   ]
  },
  {
   "cell_type": "code",
   "execution_count": 10,
   "id": "b7b867e4",
   "metadata": {
    "execution": {
     "iopub.execute_input": "2022-02-06T13:25:14.409973Z",
     "iopub.status.busy": "2022-02-06T13:25:14.409264Z",
     "iopub.status.idle": "2022-02-06T13:25:14.705171Z",
     "shell.execute_reply": "2022-02-06T13:25:14.705753Z",
     "shell.execute_reply.started": "2022-02-06T13:23:13.082925Z"
    },
    "papermill": {
     "duration": 0.322464,
     "end_time": "2022-02-06T13:25:14.705935",
     "exception": false,
     "start_time": "2022-02-06T13:25:14.383471",
     "status": "completed"
    },
    "tags": []
   },
   "outputs": [
    {
     "name": "stdout",
     "output_type": "stream",
     "text": [
      "Длина тренировочной выборки: 2206303\n",
      "Длина валидационной выборки: 188103\n",
      "Кол-во категорий в тренировочной выборке: 631\n",
      "Кол-во категорий в валидационной выборке: 631\n"
     ]
    }
   ],
   "source": [
    "# Создание валидационной выборки\n",
    "train_full = train.copy()\n",
    "last_dates = train.groupby('user_id')['order_completed_at'].max()\n",
    "\n",
    "valid = train.loc[train['order_completed_at'].isin(last_dates)]\n",
    "train = train.loc[~train['order_completed_at'].isin(last_dates)]\n",
    "\n",
    "# Корректировка категорий в обеих выборках\n",
    "train = train.loc[train['cart'].isin(valid['cart'])]\n",
    "valid = valid.loc[valid['cart'].isin(train['cart'])]\n",
    "\n",
    "\n",
    "print('Длина тренировочной выборки:', len(train))\n",
    "print('Длина валидационной выборки:', len(valid))\n",
    "print(f'Кол-во категорий в тренировочной выборке: {train.cart.nunique()}')\n",
    "print(f'Кол-во категорий в валидационной выборке: {valid.cart.nunique()}')"
   ]
  },
  {
   "cell_type": "code",
   "execution_count": 11,
   "id": "6482f797",
   "metadata": {
    "execution": {
     "iopub.execute_input": "2022-02-06T13:25:14.755938Z",
     "iopub.status.busy": "2022-02-06T13:25:14.755187Z",
     "iopub.status.idle": "2022-02-06T13:25:37.765567Z",
     "shell.execute_reply": "2022-02-06T13:25:37.764825Z",
     "shell.execute_reply.started": "2022-02-06T13:23:13.378500Z"
    },
    "papermill": {
     "duration": 23.036353,
     "end_time": "2022-02-06T13:25:37.765757",
     "exception": false,
     "start_time": "2022-02-06T13:25:14.729404",
     "status": "completed"
    },
    "tags": []
   },
   "outputs": [],
   "source": [
    "# Создание sparse-матриц тренировочной, валидационной и полной выборок для обучения модели\n",
    "data = Dataset()\n",
    "data.fit(train['user_id'].unique(), train['cart'].unique())\n",
    "train_interactions_matrix, train_weights_matrix = data.build_interactions([tuple(i) for i in train[['user_id', 'cart']].values])\n",
    "\n",
    "data.fit(valid['user_id'].unique(), valid['cart'].unique())\n",
    "valid_interactions_matrix, valid_weights_matrix = data.build_interactions([tuple(i) for i in valid[['user_id', 'cart']].values])\n",
    "\n",
    "data.fit(train_full['user_id'].unique(), train_full['cart'].unique())\n",
    "full_interactions_matrix, full_weights_matrix = data.build_interactions([tuple(i) for i in train_full[['user_id', 'cart']].values])"
   ]
  },
  {
   "cell_type": "markdown",
   "id": "29e550d3",
   "metadata": {
    "papermill": {
     "duration": 0.022736,
     "end_time": "2022-02-06T13:25:37.813679",
     "exception": false,
     "start_time": "2022-02-06T13:25:37.790943",
     "status": "completed"
    },
    "tags": []
   },
   "source": [
    "Для предсказаний нужно обработать индексы категорий и пользователей из сабмита, потому что сейчас они выходят за диапазон значений, которые ожидает модель."
   ]
  },
  {
   "cell_type": "code",
   "execution_count": 12,
   "id": "fffb6ff5",
   "metadata": {
    "execution": {
     "iopub.execute_input": "2022-02-06T13:25:37.916297Z",
     "iopub.status.busy": "2022-02-06T13:25:37.890203Z",
     "iopub.status.idle": "2022-02-06T13:25:38.843071Z",
     "shell.execute_reply": "2022-02-06T13:25:38.843594Z",
     "shell.execute_reply.started": "2022-02-06T13:23:36.707564Z"
    },
    "papermill": {
     "duration": 1.006478,
     "end_time": "2022-02-06T13:25:38.843784",
     "exception": false,
     "start_time": "2022-02-06T13:25:37.837306",
     "status": "completed"
    },
    "tags": []
   },
   "outputs": [],
   "source": [
    "users_index = {}\n",
    "items_index = {}\n",
    "\n",
    "for user_index, user_id in enumerate(users_set):\n",
    "    users_index[user_id] = user_index\n",
    "\n",
    "for item_index, item_id in enumerate(items_set):\n",
    "    items_index[item_id] = item_index\n",
    "    \n",
    "for i in range(len(users)):\n",
    "    users[i] = users_index[users[i]]\n",
    "for i in range(len(items)):\n",
    "    items[i] = items_index[items[i]]"
   ]
  },
  {
   "cell_type": "markdown",
   "id": "5d5e8b69",
   "metadata": {
    "papermill": {
     "duration": 0.022818,
     "end_time": "2022-02-06T13:25:38.889985",
     "exception": false,
     "start_time": "2022-02-06T13:25:38.867167",
     "status": "completed"
    },
    "tags": []
   },
   "source": [
    "## Моделирование  \n",
    "Использую модель LightFM с функцией потерь warp. Для валидации использую Auc-score, встроенный в библиотеку.  \n",
    "Использую только одну эпоху, иначе проявляются признаки переобучения, если взять больше."
   ]
  },
  {
   "cell_type": "code",
   "execution_count": 13,
   "id": "022788d3",
   "metadata": {
    "execution": {
     "iopub.execute_input": "2022-02-06T13:25:38.944755Z",
     "iopub.status.busy": "2022-02-06T13:25:38.943442Z",
     "iopub.status.idle": "2022-02-06T13:25:41.923227Z",
     "shell.execute_reply": "2022-02-06T13:25:41.922661Z",
     "shell.execute_reply.started": "2022-02-06T13:23:37.782204Z"
    },
    "papermill": {
     "duration": 3.010335,
     "end_time": "2022-02-06T13:25:41.923367",
     "exception": false,
     "start_time": "2022-02-06T13:25:38.913032",
     "status": "completed"
    },
    "tags": []
   },
   "outputs": [
    {
     "name": "stderr",
     "output_type": "stream",
     "text": [
      "Epoch: 100%|██████████| 1/1 [00:01<00:00,  1.32s/it]\n"
     ]
    },
    {
     "name": "stdout",
     "output_type": "stream",
     "text": [
      "AUC на тренировочной выборке 0.9376838\n",
      "AUC на валидационной выборке 0.8493536\n"
     ]
    }
   ],
   "source": [
    "model = LightFM(loss='warp')\n",
    "model.fit(train_interactions_matrix, sample_weight=train_weights_matrix, epochs=1, verbose=True, num_threads=4)\n",
    "\n",
    "print('AUC на тренировочной выборке', auc_score(model, train_interactions_matrix).mean())\n",
    "print('AUC на валидационной выборке', auc_score(model, valid_interactions_matrix).mean())"
   ]
  },
  {
   "cell_type": "code",
   "execution_count": 14,
   "id": "626f1f2f",
   "metadata": {
    "execution": {
     "iopub.execute_input": "2022-02-06T13:25:41.976645Z",
     "iopub.status.busy": "2022-02-06T13:25:41.975994Z",
     "iopub.status.idle": "2022-02-06T13:25:43.417587Z",
     "shell.execute_reply": "2022-02-06T13:25:43.418544Z",
     "shell.execute_reply.started": "2022-02-06T13:23:40.854198Z"
    },
    "papermill": {
     "duration": 1.46994,
     "end_time": "2022-02-06T13:25:43.418739",
     "exception": false,
     "start_time": "2022-02-06T13:25:41.948799",
     "status": "completed"
    },
    "tags": []
   },
   "outputs": [
    {
     "name": "stderr",
     "output_type": "stream",
     "text": [
      "Epoch: 100%|██████████| 1/1 [00:01<00:00,  1.42s/it]\n"
     ]
    },
    {
     "data": {
      "text/plain": [
       "<lightfm.lightfm.LightFM at 0x7f79ab3eb3d0>"
      ]
     },
     "execution_count": 14,
     "metadata": {},
     "output_type": "execute_result"
    }
   ],
   "source": [
    "# Обучение модели на полной тренировочной выборке\n",
    "model.fit(full_interactions_matrix, sample_weight=full_weights_matrix, epochs=1, verbose=True, num_threads=4)"
   ]
  },
  {
   "cell_type": "code",
   "execution_count": 15,
   "id": "e5bc355e",
   "metadata": {
    "execution": {
     "iopub.execute_input": "2022-02-06T13:25:43.480136Z",
     "iopub.status.busy": "2022-02-06T13:25:43.476031Z",
     "iopub.status.idle": "2022-02-06T13:25:43.820489Z",
     "shell.execute_reply": "2022-02-06T13:25:43.819970Z",
     "shell.execute_reply.started": "2022-02-06T13:23:42.379415Z"
    },
    "papermill": {
     "duration": 0.37418,
     "end_time": "2022-02-06T13:25:43.820633",
     "exception": false,
     "start_time": "2022-02-06T13:25:43.446453",
     "status": "completed"
    },
    "tags": []
   },
   "outputs": [
    {
     "data": {
      "text/html": [
       "<div>\n",
       "<style scoped>\n",
       "    .dataframe tbody tr th:only-of-type {\n",
       "        vertical-align: middle;\n",
       "    }\n",
       "\n",
       "    .dataframe tbody tr th {\n",
       "        vertical-align: top;\n",
       "    }\n",
       "\n",
       "    .dataframe thead th {\n",
       "        text-align: right;\n",
       "    }\n",
       "</style>\n",
       "<table border=\"1\" class=\"dataframe\">\n",
       "  <thead>\n",
       "    <tr style=\"text-align: right;\">\n",
       "      <th></th>\n",
       "      <th>id</th>\n",
       "      <th>target</th>\n",
       "    </tr>\n",
       "  </thead>\n",
       "  <tbody>\n",
       "    <tr>\n",
       "      <th>0</th>\n",
       "      <td>0;133</td>\n",
       "      <td>0</td>\n",
       "    </tr>\n",
       "    <tr>\n",
       "      <th>1</th>\n",
       "      <td>0;5</td>\n",
       "      <td>1</td>\n",
       "    </tr>\n",
       "    <tr>\n",
       "      <th>2</th>\n",
       "      <td>0;10</td>\n",
       "      <td>1</td>\n",
       "    </tr>\n",
       "    <tr>\n",
       "      <th>3</th>\n",
       "      <td>0;396</td>\n",
       "      <td>1</td>\n",
       "    </tr>\n",
       "    <tr>\n",
       "      <th>4</th>\n",
       "      <td>0;14</td>\n",
       "      <td>1</td>\n",
       "    </tr>\n",
       "    <tr>\n",
       "      <th>...</th>\n",
       "      <td>...</td>\n",
       "      <td>...</td>\n",
       "    </tr>\n",
       "    <tr>\n",
       "      <th>790444</th>\n",
       "      <td>19998;26</td>\n",
       "      <td>1</td>\n",
       "    </tr>\n",
       "    <tr>\n",
       "      <th>790445</th>\n",
       "      <td>19998;31</td>\n",
       "      <td>1</td>\n",
       "    </tr>\n",
       "    <tr>\n",
       "      <th>790446</th>\n",
       "      <td>19998;29</td>\n",
       "      <td>1</td>\n",
       "    </tr>\n",
       "    <tr>\n",
       "      <th>790447</th>\n",
       "      <td>19998;798</td>\n",
       "      <td>1</td>\n",
       "    </tr>\n",
       "    <tr>\n",
       "      <th>790448</th>\n",
       "      <td>19998;415</td>\n",
       "      <td>1</td>\n",
       "    </tr>\n",
       "  </tbody>\n",
       "</table>\n",
       "<p>790449 rows × 2 columns</p>\n",
       "</div>"
      ],
      "text/plain": [
       "               id  target\n",
       "0           0;133       0\n",
       "1             0;5       1\n",
       "2            0;10       1\n",
       "3           0;396       1\n",
       "4            0;14       1\n",
       "...           ...     ...\n",
       "790444   19998;26       1\n",
       "790445   19998;31       1\n",
       "790446   19998;29       1\n",
       "790447  19998;798       1\n",
       "790448  19998;415       1\n",
       "\n",
       "[790449 rows x 2 columns]"
      ]
     },
     "execution_count": 15,
     "metadata": {},
     "output_type": "execute_result"
    }
   ],
   "source": [
    "preds = model.predict(users, items)\n",
    "\n",
    "# Приведение предсказаний к бинарному виду\n",
    "for i in range(len(preds)):\n",
    "    if i > 0.5:\n",
    "        preds[i] = 1\n",
    "    else:\n",
    "        preds[i] = 0\n",
    "        \n",
    "sample['target'] = preds\n",
    "sample['target'] = sample['target'].astype(int)\n",
    "sample"
   ]
  },
  {
   "cell_type": "code",
   "execution_count": 16,
   "id": "834e0437",
   "metadata": {
    "execution": {
     "iopub.execute_input": "2022-02-06T13:25:43.880207Z",
     "iopub.status.busy": "2022-02-06T13:25:43.879602Z",
     "iopub.status.idle": "2022-02-06T13:25:45.237783Z",
     "shell.execute_reply": "2022-02-06T13:25:45.237138Z",
     "shell.execute_reply.started": "2022-02-06T13:23:42.743709Z"
    },
    "papermill": {
     "duration": 1.390248,
     "end_time": "2022-02-06T13:25:45.237959",
     "exception": false,
     "start_time": "2022-02-06T13:25:43.847711",
     "status": "completed"
    },
    "tags": []
   },
   "outputs": [],
   "source": [
    "sample.to_csv('submission.csv', index=False)"
   ]
  }
 ],
 "metadata": {
  "kernelspec": {
   "display_name": "Python 3",
   "language": "python",
   "name": "python3"
  },
  "language_info": {
   "codemirror_mode": {
    "name": "ipython",
    "version": 3
   },
   "file_extension": ".py",
   "mimetype": "text/x-python",
   "name": "python",
   "nbconvert_exporter": "python",
   "pygments_lexer": "ipython3",
   "version": "3.7.12"
  },
  "papermill": {
   "default_parameters": {},
   "duration": 52.387496,
   "end_time": "2022-02-06T13:25:46.077769",
   "environment_variables": {},
   "exception": null,
   "input_path": "__notebook__.ipynb",
   "output_path": "__notebook__.ipynb",
   "parameters": {},
   "start_time": "2022-02-06T13:24:53.690273",
   "version": "2.3.3"
  }
 },
 "nbformat": 4,
 "nbformat_minor": 5
}
